{
 "cells": [
  {
   "cell_type": "code",
   "execution_count": null,
   "id": "dad16b92",
   "metadata": {},
   "outputs": [],
   "source": [
    "# Artificial Neural Network"
   ]
  },
  {
   "cell_type": "code",
   "execution_count": null,
   "id": "1ac81995",
   "metadata": {},
   "outputs": [],
   "source": [
    "# Part 1 - Data Preprocessing"
   ]
  },
  {
   "cell_type": "code",
   "execution_count": 1,
   "id": "e15eb050",
   "metadata": {},
   "outputs": [],
   "source": [
    "# Importing the libraries\n",
    "import numpy as np\n",
    "import matplotlib.pyplot as plt\n",
    "import pandas as pd"
   ]
  },
  {
   "cell_type": "code",
   "execution_count": 2,
   "id": "8dc8e435",
   "metadata": {},
   "outputs": [],
   "source": [
    "# Importing the dataset\n",
    "dataset = pd.read_csv('Churn_Modelling.csv')\n",
    "X = dataset.iloc[:, 3:13]\n",
    "y = dataset.iloc[:, 13]"
   ]
  },
  {
   "cell_type": "code",
   "execution_count": 3,
   "id": "80bc9eb2",
   "metadata": {},
   "outputs": [],
   "source": [
    "#Create dummy variables\n",
    "geography=pd.get_dummies(X[\"Geography\"],drop_first=True)\n",
    "gender=pd.get_dummies(X['Gender'],drop_first=True)"
   ]
  },
  {
   "cell_type": "code",
   "execution_count": 4,
   "id": "69b995bd",
   "metadata": {},
   "outputs": [],
   "source": [
    "## Concatenate the Data Frames\n",
    "\n",
    "X=pd.concat([X,geography,gender],axis=1)"
   ]
  },
  {
   "cell_type": "code",
   "execution_count": 5,
   "id": "d7f88d61",
   "metadata": {},
   "outputs": [],
   "source": [
    "## Drop Unnecessary columns\n",
    "X=X.drop(['Geography','Gender'],axis=1)"
   ]
  },
  {
   "cell_type": "code",
   "execution_count": 16,
   "id": "1ff488d0",
   "metadata": {},
   "outputs": [
    {
     "data": {
      "text/plain": [
       "(10000, 11)"
      ]
     },
     "execution_count": 16,
     "metadata": {},
     "output_type": "execute_result"
    }
   ],
   "source": [
    "X.shape"
   ]
  },
  {
   "cell_type": "code",
   "execution_count": 6,
   "id": "596984d2",
   "metadata": {},
   "outputs": [],
   "source": [
    "# Splitting the dataset into the Training set and Test set\n",
    "from sklearn.model_selection import train_test_split\n",
    "X_train, X_test, y_train, y_test = train_test_split(X, y, test_size = 0.2, random_state = 0)"
   ]
  },
  {
   "cell_type": "code",
   "execution_count": 7,
   "id": "dbf0204f",
   "metadata": {},
   "outputs": [],
   "source": [
    "# Feature Scaling\n",
    "from sklearn.preprocessing import StandardScaler\n",
    "sc = StandardScaler()\n",
    "X_train = sc.fit_transform(X_train)\n",
    "X_test = sc.transform(X_test)"
   ]
  },
  {
   "cell_type": "code",
   "execution_count": null,
   "id": "68f03921",
   "metadata": {},
   "outputs": [],
   "source": [
    "# Part 2 - Now let's make the ANN!"
   ]
  },
  {
   "cell_type": "code",
   "execution_count": 8,
   "id": "a5aff968",
   "metadata": {},
   "outputs": [],
   "source": [
    "# Importing the Keras libraries and packages\n",
    "\n",
    "import keras\n",
    "from keras.models import Sequential\n",
    "from keras.layers import Dense\n",
    "from keras.layers import LeakyReLU,PReLU,ELU\n",
    "from keras.layers import Dropout"
   ]
  },
  {
   "cell_type": "code",
   "execution_count": 9,
   "id": "fd6c96e2",
   "metadata": {},
   "outputs": [],
   "source": [
    "# Initialising the ANN\n",
    "classifier = Sequential()"
   ]
  },
  {
   "cell_type": "code",
   "execution_count": 19,
   "id": "0482af5c",
   "metadata": {},
   "outputs": [],
   "source": [
    "classifier.add(Dense(6, kernel_initializer = 'he_uniform',activation='relu'))"
   ]
  },
  {
   "cell_type": "code",
   "execution_count": 20,
   "id": "284420eb",
   "metadata": {},
   "outputs": [],
   "source": [
    "# Adding the second hidden layer\n",
    "classifier.add(Dense(6, kernel_initializer = 'he_uniform',activation='relu'))"
   ]
  },
  {
   "cell_type": "code",
   "execution_count": 21,
   "id": "d7393b58",
   "metadata": {},
   "outputs": [],
   "source": [
    "# Adding the output layer\n",
    "classifier.add(Dense(1, kernel_initializer = 'glorot_uniform', activation = 'sigmoid'))"
   ]
  },
  {
   "cell_type": "code",
   "execution_count": 22,
   "id": "c6d53d34",
   "metadata": {},
   "outputs": [],
   "source": [
    "# Compiling the ANN\n",
    "classifier.compile(optimizer = 'Adamax', loss = 'binary_crossentropy', metrics = ['accuracy'])"
   ]
  },
  {
   "cell_type": "code",
   "execution_count": 25,
   "id": "d4897199",
   "metadata": {},
   "outputs": [
    {
     "name": "stdout",
     "output_type": "stream",
     "text": [
      "Epoch 1/100\n",
      "536/536 [==============================] - 1s 2ms/step - loss: 0.7370 - accuracy: 0.5676 - val_loss: 0.5802 - val_accuracy: 0.7766\n",
      "Epoch 2/100\n",
      "536/536 [==============================] - 1s 1ms/step - loss: 0.5384 - accuracy: 0.7946 - val_loss: 0.5161 - val_accuracy: 0.7955\n",
      "Epoch 3/100\n",
      "536/536 [==============================] - 1s 1ms/step - loss: 0.5006 - accuracy: 0.7962 - val_loss: 0.4922 - val_accuracy: 0.7955\n",
      "Epoch 4/100\n",
      "536/536 [==============================] - 1s 1ms/step - loss: 0.4831 - accuracy: 0.7962 - val_loss: 0.4788 - val_accuracy: 0.7955\n",
      "Epoch 5/100\n",
      "536/536 [==============================] - 1s 1ms/step - loss: 0.4721 - accuracy: 0.7962 - val_loss: 0.4695 - val_accuracy: 0.7955\n",
      "Epoch 6/100\n",
      "536/536 [==============================] - 1s 2ms/step - loss: 0.4632 - accuracy: 0.7964 - val_loss: 0.4626 - val_accuracy: 0.7963\n",
      "Epoch 7/100\n",
      "536/536 [==============================] - 1s 2ms/step - loss: 0.4564 - accuracy: 0.7970 - val_loss: 0.4574 - val_accuracy: 0.7978\n",
      "Epoch 8/100\n",
      "536/536 [==============================] - 1s 2ms/step - loss: 0.4511 - accuracy: 0.7988 - val_loss: 0.4534 - val_accuracy: 0.7974\n",
      "Epoch 9/100\n",
      "536/536 [==============================] - 1s 2ms/step - loss: 0.4471 - accuracy: 0.7975 - val_loss: 0.4510 - val_accuracy: 0.7970\n",
      "Epoch 10/100\n",
      "536/536 [==============================] - 1s 1ms/step - loss: 0.4443 - accuracy: 0.7985 - val_loss: 0.4488 - val_accuracy: 0.7970\n",
      "Epoch 11/100\n",
      "536/536 [==============================] - ETA: 0s - loss: 0.4402 - accuracy: 0.79 - 1s 1ms/step - loss: 0.4418 - accuracy: 0.7968 - val_loss: 0.4475 - val_accuracy: 0.7955\n",
      "Epoch 12/100\n",
      "536/536 [==============================] - 0s 851us/step - loss: 0.4397 - accuracy: 0.7974 - val_loss: 0.4463 - val_accuracy: 0.7952\n",
      "Epoch 13/100\n",
      "536/536 [==============================] - 1s 1ms/step - loss: 0.4380 - accuracy: 0.7981 - val_loss: 0.4451 - val_accuracy: 0.7952\n",
      "Epoch 14/100\n",
      "536/536 [==============================] - 1s 939us/step - loss: 0.4362 - accuracy: 0.8000 - val_loss: 0.4441 - val_accuracy: 0.7929\n",
      "Epoch 15/100\n",
      "536/536 [==============================] - 1s 1ms/step - loss: 0.4347 - accuracy: 0.8003 - val_loss: 0.4431 - val_accuracy: 0.7933\n",
      "Epoch 16/100\n",
      "536/536 [==============================] - 1s 2ms/step - loss: 0.4332 - accuracy: 0.8026 - val_loss: 0.4421 - val_accuracy: 0.7952\n",
      "Epoch 17/100\n",
      "536/536 [==============================] - 1s 2ms/step - loss: 0.4320 - accuracy: 0.8039 - val_loss: 0.4411 - val_accuracy: 0.7936\n",
      "Epoch 18/100\n",
      "536/536 [==============================] - 1s 3ms/step - loss: 0.4308 - accuracy: 0.8029 - val_loss: 0.4404 - val_accuracy: 0.7959\n",
      "Epoch 19/100\n",
      "536/536 [==============================] - 1s 2ms/step - loss: 0.4298 - accuracy: 0.8033 - val_loss: 0.4396 - val_accuracy: 0.7944\n",
      "Epoch 20/100\n",
      "536/536 [==============================] - 1s 2ms/step - loss: 0.4287 - accuracy: 0.8054 - val_loss: 0.4387 - val_accuracy: 0.7948\n",
      "Epoch 21/100\n",
      "536/536 [==============================] - 1s 1ms/step - loss: 0.4276 - accuracy: 0.8067 - val_loss: 0.4381 - val_accuracy: 0.7936\n",
      "Epoch 22/100\n",
      "536/536 [==============================] - 1s 1ms/step - loss: 0.4268 - accuracy: 0.8054 - val_loss: 0.4375 - val_accuracy: 0.7955\n",
      "Epoch 23/100\n",
      "536/536 [==============================] - 0s 911us/step - loss: 0.4260 - accuracy: 0.8061 - val_loss: 0.4368 - val_accuracy: 0.7955\n",
      "Epoch 24/100\n",
      "536/536 [==============================] - 1s 2ms/step - loss: 0.4250 - accuracy: 0.8067 - val_loss: 0.4366 - val_accuracy: 0.7921\n",
      "Epoch 25/100\n",
      "536/536 [==============================] - 1s 2ms/step - loss: 0.4245 - accuracy: 0.8054 - val_loss: 0.4358 - val_accuracy: 0.7955\n",
      "Epoch 26/100\n",
      "536/536 [==============================] - 1s 2ms/step - loss: 0.4236 - accuracy: 0.8074 - val_loss: 0.4354 - val_accuracy: 0.7940\n",
      "Epoch 27/100\n",
      "536/536 [==============================] - 1s 2ms/step - loss: 0.4229 - accuracy: 0.8082 - val_loss: 0.4349 - val_accuracy: 0.7955\n",
      "Epoch 28/100\n",
      "536/536 [==============================] - 1s 2ms/step - loss: 0.4222 - accuracy: 0.8074 - val_loss: 0.4344 - val_accuracy: 0.7952\n",
      "Epoch 29/100\n",
      "536/536 [==============================] - 1s 2ms/step - loss: 0.4216 - accuracy: 0.8078 - val_loss: 0.4341 - val_accuracy: 0.7959\n",
      "Epoch 30/100\n",
      "536/536 [==============================] - 1s 2ms/step - loss: 0.4209 - accuracy: 0.8099 - val_loss: 0.4338 - val_accuracy: 0.7959\n",
      "Epoch 31/100\n",
      "536/536 [==============================] - 1s 2ms/step - loss: 0.4205 - accuracy: 0.8097 - val_loss: 0.4334 - val_accuracy: 0.7970\n",
      "Epoch 32/100\n",
      "536/536 [==============================] - 1s 950us/step - loss: 0.4198 - accuracy: 0.8115 - val_loss: 0.4331 - val_accuracy: 0.7974\n",
      "Epoch 33/100\n",
      "536/536 [==============================] - 1s 1ms/step - loss: 0.4193 - accuracy: 0.8121 - val_loss: 0.4330 - val_accuracy: 0.7993\n",
      "Epoch 34/100\n",
      "536/536 [==============================] - 1s 942us/step - loss: 0.4188 - accuracy: 0.8113 - val_loss: 0.4327 - val_accuracy: 0.7997\n",
      "Epoch 35/100\n",
      "536/536 [==============================] - 1s 968us/step - loss: 0.4183 - accuracy: 0.8115 - val_loss: 0.4322 - val_accuracy: 0.8005\n",
      "Epoch 36/100\n",
      "536/536 [==============================] - 1s 1ms/step - loss: 0.4178 - accuracy: 0.8112 - val_loss: 0.4319 - val_accuracy: 0.7997\n",
      "Epoch 37/100\n",
      "536/536 [==============================] - 1s 2ms/step - loss: 0.4173 - accuracy: 0.8113 - val_loss: 0.4315 - val_accuracy: 0.7997\n",
      "Epoch 38/100\n",
      "536/536 [==============================] - 1s 2ms/step - loss: 0.4168 - accuracy: 0.8125 - val_loss: 0.4314 - val_accuracy: 0.7982\n",
      "Epoch 39/100\n",
      "536/536 [==============================] - 1s 2ms/step - loss: 0.4162 - accuracy: 0.8128 - val_loss: 0.4312 - val_accuracy: 0.7986\n",
      "Epoch 40/100\n",
      "536/536 [==============================] - 1s 2ms/step - loss: 0.4156 - accuracy: 0.8134 - val_loss: 0.4307 - val_accuracy: 0.7997\n",
      "Epoch 41/100\n",
      "536/536 [==============================] - 1s 2ms/step - loss: 0.4152 - accuracy: 0.8141 - val_loss: 0.4303 - val_accuracy: 0.7993\n",
      "Epoch 42/100\n",
      "536/536 [==============================] - 1s 2ms/step - loss: 0.4146 - accuracy: 0.8136 - val_loss: 0.4300 - val_accuracy: 0.7970\n",
      "Epoch 43/100\n",
      "536/536 [==============================] - 1s 2ms/step - loss: 0.4140 - accuracy: 0.8138 - val_loss: 0.4297 - val_accuracy: 0.7997\n",
      "Epoch 44/100\n",
      "536/536 [==============================] - 0s 924us/step - loss: 0.4133 - accuracy: 0.8147 - val_loss: 0.4298 - val_accuracy: 0.7952\n",
      "Epoch 45/100\n",
      "536/536 [==============================] - 1s 942us/step - loss: 0.4131 - accuracy: 0.8143 - val_loss: 0.4291 - val_accuracy: 0.7982\n",
      "Epoch 46/100\n",
      "536/536 [==============================] - 0s 917us/step - loss: 0.4125 - accuracy: 0.8151 - val_loss: 0.4287 - val_accuracy: 0.8001\n",
      "Epoch 47/100\n",
      "536/536 [==============================] - 1s 1ms/step - loss: 0.4119 - accuracy: 0.8151 - val_loss: 0.4285 - val_accuracy: 0.7997\n",
      "Epoch 48/100\n",
      "536/536 [==============================] - 1s 2ms/step - loss: 0.4114 - accuracy: 0.8155 - val_loss: 0.4283 - val_accuracy: 0.8031\n",
      "Epoch 49/100\n",
      "536/536 [==============================] - 1s 2ms/step - loss: 0.4109 - accuracy: 0.8155 - val_loss: 0.4280 - val_accuracy: 0.8012\n",
      "Epoch 50/100\n",
      "536/536 [==============================] - 1s 2ms/step - loss: 0.4104 - accuracy: 0.8149 - val_loss: 0.4277 - val_accuracy: 0.8001\n",
      "Epoch 51/100\n",
      "536/536 [==============================] - 1s 2ms/step - loss: 0.4098 - accuracy: 0.8160 - val_loss: 0.4275 - val_accuracy: 0.8016\n",
      "Epoch 52/100\n",
      "536/536 [==============================] - 1s 2ms/step - loss: 0.4092 - accuracy: 0.8158 - val_loss: 0.4270 - val_accuracy: 0.7982\n",
      "Epoch 53/100\n",
      "536/536 [==============================] - 1s 944us/step - loss: 0.4087 - accuracy: 0.8171 - val_loss: 0.4265 - val_accuracy: 0.8005\n",
      "Epoch 54/100\n",
      "536/536 [==============================] - 1s 957us/step - loss: 0.4080 - accuracy: 0.8175 - val_loss: 0.4261 - val_accuracy: 0.8023\n",
      "Epoch 55/100\n",
      "536/536 [==============================] - 1s 1ms/step - loss: 0.4075 - accuracy: 0.8188 - val_loss: 0.4256 - val_accuracy: 0.8046\n",
      "Epoch 56/100\n",
      "536/536 [==============================] - 1s 2ms/step - loss: 0.4068 - accuracy: 0.8190 - val_loss: 0.4252 - val_accuracy: 0.8058\n",
      "Epoch 57/100\n",
      "536/536 [==============================] - 1s 2ms/step - loss: 0.4063 - accuracy: 0.8192 - val_loss: 0.4249 - val_accuracy: 0.8023\n",
      "Epoch 58/100\n",
      "536/536 [==============================] - 1s 2ms/step - loss: 0.4056 - accuracy: 0.8201 - val_loss: 0.4243 - val_accuracy: 0.8061\n",
      "Epoch 59/100\n",
      "536/536 [==============================] - 1s 2ms/step - loss: 0.4052 - accuracy: 0.8203 - val_loss: 0.4237 - val_accuracy: 0.8058\n",
      "Epoch 60/100\n",
      "536/536 [==============================] - 1s 2ms/step - loss: 0.4044 - accuracy: 0.8214 - val_loss: 0.4233 - val_accuracy: 0.8054\n",
      "Epoch 61/100\n",
      "536/536 [==============================] - 1s 2ms/step - loss: 0.4038 - accuracy: 0.8214 - val_loss: 0.4225 - val_accuracy: 0.8061\n",
      "Epoch 62/100\n",
      "536/536 [==============================] - 1s 2ms/step - loss: 0.4031 - accuracy: 0.8238 - val_loss: 0.4217 - val_accuracy: 0.8088\n",
      "Epoch 63/100\n",
      "536/536 [==============================] - 1s 3ms/step - loss: 0.4022 - accuracy: 0.8240 - val_loss: 0.4212 - val_accuracy: 0.8114\n",
      "Epoch 64/100\n",
      "536/536 [==============================] - 1s 2ms/step - loss: 0.4016 - accuracy: 0.8274 - val_loss: 0.4205 - val_accuracy: 0.8099\n",
      "Epoch 65/100\n",
      "536/536 [==============================] - 1s 2ms/step - loss: 0.4010 - accuracy: 0.8276 - val_loss: 0.4195 - val_accuracy: 0.8126\n",
      "Epoch 66/100\n",
      "536/536 [==============================] - 1s 2ms/step - loss: 0.4002 - accuracy: 0.8289 - val_loss: 0.4188 - val_accuracy: 0.8107\n",
      "Epoch 67/100\n",
      "536/536 [==============================] - 1s 3ms/step - loss: 0.3998 - accuracy: 0.8278 - val_loss: 0.4180 - val_accuracy: 0.8126\n",
      "Epoch 68/100\n",
      "536/536 [==============================] - 1s 2ms/step - loss: 0.3988 - accuracy: 0.8276 - val_loss: 0.4178 - val_accuracy: 0.8194\n",
      "Epoch 69/100\n",
      "536/536 [==============================] - 1s 2ms/step - loss: 0.3984 - accuracy: 0.8293 - val_loss: 0.4167 - val_accuracy: 0.8148\n",
      "Epoch 70/100\n",
      "536/536 [==============================] - 1s 3ms/step - loss: 0.3978 - accuracy: 0.8291 - val_loss: 0.4161 - val_accuracy: 0.8152\n",
      "Epoch 71/100\n",
      "536/536 [==============================] - 1s 1ms/step - loss: 0.3970 - accuracy: 0.8296 - val_loss: 0.4150 - val_accuracy: 0.8175\n",
      "Epoch 72/100\n",
      "536/536 [==============================] - 1s 944us/step - loss: 0.3961 - accuracy: 0.8306 - val_loss: 0.4143 - val_accuracy: 0.8152\n",
      "Epoch 73/100\n",
      "536/536 [==============================] - 1s 1ms/step - loss: 0.3952 - accuracy: 0.8315 - val_loss: 0.4132 - val_accuracy: 0.8152\n",
      "Epoch 74/100\n",
      "536/536 [==============================] - 1s 1ms/step - loss: 0.3943 - accuracy: 0.8302 - val_loss: 0.4124 - val_accuracy: 0.8141\n",
      "Epoch 75/100\n",
      "536/536 [==============================] - 1s 2ms/step - loss: 0.3936 - accuracy: 0.8317 - val_loss: 0.4114 - val_accuracy: 0.8137\n",
      "Epoch 76/100\n",
      "536/536 [==============================] - 1s 2ms/step - loss: 0.3927 - accuracy: 0.8330 - val_loss: 0.4108 - val_accuracy: 0.8122\n",
      "Epoch 77/100\n",
      "536/536 [==============================] - 1s 2ms/step - loss: 0.3917 - accuracy: 0.8328 - val_loss: 0.4101 - val_accuracy: 0.8145\n",
      "Epoch 78/100\n",
      "536/536 [==============================] - 1s 2ms/step - loss: 0.3908 - accuracy: 0.8343 - val_loss: 0.4092 - val_accuracy: 0.8152\n",
      "Epoch 79/100\n",
      "536/536 [==============================] - 1s 2ms/step - loss: 0.3898 - accuracy: 0.8350 - val_loss: 0.4086 - val_accuracy: 0.8186\n",
      "Epoch 80/100\n",
      "536/536 [==============================] - 1s 2ms/step - loss: 0.3890 - accuracy: 0.8349 - val_loss: 0.4078 - val_accuracy: 0.8145\n",
      "Epoch 81/100\n",
      "536/536 [==============================] - 1s 2ms/step - loss: 0.3879 - accuracy: 0.8360 - val_loss: 0.4069 - val_accuracy: 0.8160\n",
      "Epoch 82/100\n",
      "536/536 [==============================] - 1s 2ms/step - loss: 0.3867 - accuracy: 0.8358 - val_loss: 0.4058 - val_accuracy: 0.8160\n",
      "Epoch 83/100\n",
      "536/536 [==============================] - 1s 2ms/step - loss: 0.3856 - accuracy: 0.8369 - val_loss: 0.4050 - val_accuracy: 0.8179\n",
      "Epoch 84/100\n",
      "536/536 [==============================] - 1s 2ms/step - loss: 0.3844 - accuracy: 0.8384 - val_loss: 0.4040 - val_accuracy: 0.8183\n",
      "Epoch 85/100\n",
      "536/536 [==============================] - 1s 2ms/step - loss: 0.3836 - accuracy: 0.8378 - val_loss: 0.4034 - val_accuracy: 0.8183\n",
      "Epoch 86/100\n",
      "536/536 [==============================] - 1s 2ms/step - loss: 0.3823 - accuracy: 0.8397 - val_loss: 0.4027 - val_accuracy: 0.8190\n",
      "Epoch 87/100\n",
      "536/536 [==============================] - 1s 3ms/step - loss: 0.3811 - accuracy: 0.8399 - val_loss: 0.4020 - val_accuracy: 0.8183\n",
      "Epoch 88/100\n",
      "536/536 [==============================] - 1s 2ms/step - loss: 0.3799 - accuracy: 0.8403 - val_loss: 0.4016 - val_accuracy: 0.8236\n",
      "Epoch 89/100\n",
      "536/536 [==============================] - 1s 2ms/step - loss: 0.3789 - accuracy: 0.8399 - val_loss: 0.4003 - val_accuracy: 0.8239\n",
      "Epoch 90/100\n",
      "536/536 [==============================] - 1s 2ms/step - loss: 0.3778 - accuracy: 0.8414 - val_loss: 0.3996 - val_accuracy: 0.8217\n",
      "Epoch 91/100\n",
      "536/536 [==============================] - 1s 2ms/step - loss: 0.3766 - accuracy: 0.8416 - val_loss: 0.3985 - val_accuracy: 0.8236\n",
      "Epoch 92/100\n",
      "536/536 [==============================] - 1s 2ms/step - loss: 0.3755 - accuracy: 0.8421 - val_loss: 0.3975 - val_accuracy: 0.8228\n",
      "Epoch 93/100\n",
      "536/536 [==============================] - 1s 2ms/step - loss: 0.3744 - accuracy: 0.8461 - val_loss: 0.3962 - val_accuracy: 0.8258\n",
      "Epoch 94/100\n",
      "536/536 [==============================] - 1s 2ms/step - loss: 0.3729 - accuracy: 0.8446 - val_loss: 0.3956 - val_accuracy: 0.8304\n",
      "Epoch 95/100\n",
      "536/536 [==============================] - 1s 1ms/step - loss: 0.3721 - accuracy: 0.8464 - val_loss: 0.3939 - val_accuracy: 0.8292\n",
      "Epoch 96/100\n",
      "536/536 [==============================] - 1s 2ms/step - loss: 0.3707 - accuracy: 0.8474 - val_loss: 0.3928 - val_accuracy: 0.8300\n",
      "Epoch 97/100\n",
      "536/536 [==============================] - 1s 1ms/step - loss: 0.3694 - accuracy: 0.8472 - val_loss: 0.3913 - val_accuracy: 0.8319\n",
      "Epoch 98/100\n",
      "536/536 [==============================] - 1s 2ms/step - loss: 0.3678 - accuracy: 0.8489 - val_loss: 0.3900 - val_accuracy: 0.8334\n",
      "Epoch 99/100\n",
      "536/536 [==============================] - 1s 2ms/step - loss: 0.3662 - accuracy: 0.8498 - val_loss: 0.3891 - val_accuracy: 0.8357\n",
      "Epoch 100/100\n",
      "536/536 [==============================] - 1s 3ms/step - loss: 0.3645 - accuracy: 0.8503 - val_loss: 0.3873 - val_accuracy: 0.8383\n"
     ]
    }
   ],
   "source": [
    "# Fitting the ANN to the Training set\n",
    "model_history=classifier.fit(X_train, y_train,validation_split=0.33, batch_size = 10, epochs = 100)"
   ]
  },
  {
   "cell_type": "code",
   "execution_count": 27,
   "id": "83f73c51",
   "metadata": {},
   "outputs": [
    {
     "name": "stdout",
     "output_type": "stream",
     "text": [
      "dict_keys(['loss', 'accuracy', 'val_loss', 'val_accuracy'])\n"
     ]
    },
    {
     "data": {
      "image/png": "[encoded data removed]",
      "text/plain": [
       "<Figure size 432x288 with 1 Axes>"
      ]
     },
     "metadata": {
      "needs_background": "light"
     },
     "output_type": "display_data"
    }
   ],
   "source": [
    "# list all data in history\n",
    "\n",
    "print(model_history.history.keys())\n",
    "# summarize history for accuracy\n",
    "plt.plot(model_history.history['accuracy'])\n",
    "plt.plot(model_history.history['val_accuracy'])\n",
    "plt.title('model accuracy')\n",
    "plt.ylabel('accuracy')\n",
    "plt.xlabel('epoch')\n",
    "plt.legend(['train', 'test'], loc='upper left')\n",
    "plt.show()"
   ]
  },
  {
   "cell_type": "code",
   "execution_count": 28,
   "id": "402b49f3",
   "metadata": {},
   "outputs": [
    {
     "data": {
      "image/png": "[encoded data removed]",
      "text/plain": [
       "<Figure size 432x288 with 1 Axes>"
      ]
     },
     "metadata": {
      "needs_background": "light"
     },
     "output_type": "display_data"
    }
   ],
   "source": [
    "# summarize history for loss\n",
    "plt.plot(model_history.history['loss'])\n",
    "plt.plot(model_history.history['val_loss'])\n",
    "plt.title('model loss')\n",
    "plt.ylabel('loss')\n",
    "plt.xlabel('epoch')\n",
    "plt.legend(['train', 'test'], loc='upper left')\n",
    "plt.show()"
   ]
  },
  {
   "cell_type": "code",
   "execution_count": null,
   "id": "867867b2",
   "metadata": {},
   "outputs": [],
   "source": [
    "# Part 3 - Making the predictions and evaluating the model"
   ]
  },
  {
   "cell_type": "code",
   "execution_count": 36,
   "id": "60e18d99",
   "metadata": {},
   "outputs": [],
   "source": [
    "# Predicting the Test set results\n",
    "y_pred = classifier.predict(X_test)\n",
    "y_pred = (y_pred > 0.5)"
   ]
  },
  {
   "cell_type": "code",
   "execution_count": 30,
   "id": "84e2b6fd",
   "metadata": {},
   "outputs": [],
   "source": [
    "# Making the Confusion Matrix\n",
    "from sklearn.metrics import confusion_matrix\n",
    "cm = confusion_matrix(y_test, y_pred)"
   ]
  },
  {
   "cell_type": "code",
   "execution_count": 34,
   "id": "4c138e7b",
   "metadata": {},
   "outputs": [
    {
     "data": {
      "text/plain": [
       "0.8505"
      ]
     },
     "execution_count": 34,
     "metadata": {},
     "output_type": "execute_result"
    }
   ],
   "source": [
    "# Calculate the Accuracy\n",
    "from sklearn.metrics import accuracy_score\n",
    "score=accuracy_score(y_pred,y_test)\n",
    "\n",
    "score"
   ]
  }
 ],
 "metadata": {
  "kernelspec": {
   "display_name": "Python 3",
   "language": "python",
   "name": "python3"
  },
  "language_info": {
   "codemirror_mode": {
    "name": "ipython",
    "version": 3
   },
   "file_extension": ".py",
   "mimetype": "text/x-python",
   "name": "python",
   "nbconvert_exporter": "python",
   "pygments_lexer": "ipython3",
   "version": "3.8.3"
  }
 },
 "nbformat": 4,
 "nbformat_minor": 5
}
